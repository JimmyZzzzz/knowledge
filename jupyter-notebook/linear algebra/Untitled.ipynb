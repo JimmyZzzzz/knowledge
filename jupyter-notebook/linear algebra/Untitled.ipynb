{
 "cells": [
  {
   "cell_type": "code",
   "execution_count": 1,
   "metadata": {},
   "outputs": [
    {
     "ename": "UndefVarError",
     "evalue": "UndefVarError: Markdown not defined",
     "output_type": "error",
     "traceback": [
      "UndefVarError: Markdown not defined",
      "",
      "Stacktrace:",
      " [1] matplotlib_magic_help(::SubString{String}, ::SubString{String}) at /home/ryan/.julia/packages/IJulia/4VL8h/src/magics.jl:143",
      " [2] magics_help(::String) at /home/ryan/.julia/packages/IJulia/4VL8h/src/magics.jl:22",
      " [3] execute_request(::ZMQ.Socket, ::IJulia.Msg) at /home/ryan/.julia/packages/IJulia/4VL8h/src/execute_request.jl:165",
      " [4] #invokelatest#1 at ./essentials.jl:697 [inlined]",
      " [5] invokelatest at ./essentials.jl:696 [inlined]",
      " [6] eventloop(::ZMQ.Socket) at /home/ryan/.julia/packages/IJulia/4VL8h/src/eventloop.jl:8",
      " [7] (::getfield(IJulia, Symbol(\"##12#15\")))() at ./task.jl:259"
     ]
    }
   ],
   "source": []
  },
  {
   "cell_type": "code",
   "execution_count": null,
   "metadata": {},
   "outputs": [],
   "source": []
  }
 ],
 "metadata": {
  "kernelspec": {
   "display_name": "Python 3",
   "language": "python",
   "name": "python3"
  },
  "language_info": {
   "codemirror_mode": {
    "name": "ipython",
    "version": 3
   },
   "file_extension": ".py",
   "mimetype": "text/x-python",
   "name": "python",
   "nbconvert_exporter": "python",
   "pygments_lexer": "ipython3",
   "version": "3.7.0"
  }
 },
 "nbformat": 4,
 "nbformat_minor": 2
}
