{
 "cells": [
  {
   "cell_type": "markdown",
   "metadata": {},
   "source": [
    "#### 4.5 周期信号的 FT\n",
    "\n",
    "信号的调制解调、采样恢复，都需要用到周期信号。这一章为它们提供理论基础。"
   ]
  },
  {
   "cell_type": "markdown",
   "metadata": {},
   "source": [
    "首先逆变换可以直接用 1.7 的结果（频域离散，用求和）：$$f(x) = \\sum_{n=-\\infty}^{\\infty} D_n e^{i\\frac{n\\pi}{L}x}$$\n",
    "\n",
    "对周期信号 $f_p(t)$，有\n",
    "\n",
    "$$\\begin{align}\n",
    "FT[f_p(t)] &= FT\\left[ \\sum_{n=-\\infty}^{\\infty} D_n e^{i\\frac{n\\pi}{L}x} \\right] \\\\\n",
    "&= D_n 2\\pi \\sum_{n=-\\infty}^{\\infty} \\delta(\\omega - \\frac{n\\pi}{L})\n",
    "\\end{align}$$\n",
    "\n",
    "里面的 $D_n$ 也直接用 1.7.1 求：$$D_n = \\frac{1}{2L}\\int^{t+2L}_{t} f(x) e^{-in\\frac{\\pi}{L}x} dx$$"
   ]
  },
  {
   "cell_type": "code",
   "execution_count": null,
   "metadata": {},
   "outputs": [],
   "source": []
  }
 ],
 "metadata": {
  "kernelspec": {
   "display_name": "Python 3",
   "language": "python",
   "name": "python3"
  },
  "language_info": {
   "codemirror_mode": {
    "name": "ipython",
    "version": 3
   },
   "file_extension": ".py",
   "mimetype": "text/x-python",
   "name": "python",
   "nbconvert_exporter": "python",
   "pygments_lexer": "ipython3",
   "version": "3.7.1"
  }
 },
 "nbformat": 4,
 "nbformat_minor": 2
}
