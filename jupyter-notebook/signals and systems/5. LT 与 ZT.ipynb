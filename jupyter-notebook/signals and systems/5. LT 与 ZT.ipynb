{
 "cells": [
  {
   "cell_type": "markdown",
   "metadata": {},
   "source": [
    "### 一、Laplace 变换\n",
    "\n",
    "第三章讨论的傅里叶变换应用非常广泛，但是也有它的局限性，即对函数 $f(t)$ 的条件太严格：\n",
    "1. 要求在 $(-\\infty, \\infty)$ 上绝对可积，但是很多基本信号都不满足这个条件，比如常数函数、三角函数、线性函数、阶跃函数等。\n",
    "1. 要求在整个区间 $(-\\infty, \\infty)$ 上都有定义。无法求取以时间 t 为变量的函数的 FT（因为 $t \\in [0, \\infty)$ ）\n",
    "\n",
    "为了解决这些问题，引入了 Laplace 变换。"
   ]
  },
  {
   "cell_type": "markdown",
   "metadata": {},
   "source": [
    "### 1. 简介\n",
    "\n",
    "Laplace 变换是傅里叶变换的推广，现在已知一个函数 $g(t)\\ (t \\ge 0)$，为了能让它满足条件 2，首先给它乘上单位阶跃函数 $u(t)$ 将定义域扩展为 $(-\\infty, \\infty)$.\n",
    "\n",
    "接着为了满足绝对可积条件，再给它乘上一个衰减因子 $e^{-\\beta t}\\ (\\beta \\ge 0)$，这样就能对它做 FT 了。\n",
    "\n",
    "$$\\int^{\\infty}_{-\\infty} g(t)u(t)e^{-\\beta t}e^{-i\\omega t}\\ dt = \\int^{\\infty}_{0^-} f(t)e^{-(\\beta + i\\omega)t}\\ dt$$\n",
    "\n",
    "其中 $f(t)=g(t)u(t)$，感觉这里直接写 $g(t)$ 也没毛病。\n",
    "\n",
    "这样得到的新变换，叫 Laplace 变换。\n",
    "\n",
    "观察变换式，发现**添加衰减因子实际上就是把积分变换核从 $e^{-i\\omega t}$ 换成了 $e^{-(\\beta + i\\omega)t}$，而添加 $u(t)$ 则使这个变换成为一个单边变换（积分区间丢掉了负数区域）**。\n",
    "\n",
    "令 $s = \\beta + i\\omega$，有 LT 公式：\n",
    "\n",
    "$$F(s) = \\int^{\\infty}_{0} f(t)e^{-st}\\ dt$$"
   ]
  },
  {
   "cell_type": "markdown",
   "metadata": {},
   "source": [
    "再通过 FT 得到 LT 的反变换公式（注意原函数是 $g(t)u(t)e^{-\\beta t} = f(t)e^{-\\beta t}$）：\n",
    "\n",
    "$$\n",
    "\\begin{align}\n",
    "f(t)e^{-\\beta t} &= \\frac{1}{2\\pi}\\int^{\\infty}_{-\\infty} F(\\omega)e^{i\\omega t}\\ d\\omega \\\\\n",
    "f(t) &= \\frac{1}{2\\pi}\\int^{\\infty}_{-\\infty} F(\\omega)e^{(\\beta + i\\omega)t}\\ d\\omega\n",
    "\\end{align}$$\n",
    "\n",
    "又 $ds = d(\\beta + i\\omega) = i\\ d\\omega$，\n",
    "\n",
    "另外 $\\omega \\in (-\\infty, \\infty)$, 有 $s \\in (\\beta - \\infty, \\beta + \\infty)$，这样得到（这里 $F(\\omega)\\ 能直接换成\\ F(s)$）\n",
    "\n",
    "$$f(t) = \\frac{1}{2\\pi i}\\int^{\\beta+\\infty}_{\\beta-\\infty} F(s)e^{st}\\ ds$$"
   ]
  },
  {
   "cell_type": "markdown",
   "metadata": {},
   "source": [
    "### 2. FT 与 LT 的变换域对比\n",
    "\n",
    "FT 的变换域写作 $F(i\\omega)$，圆频率 $\\omega$ 是实数，频域为实数域。\n",
    "\n",
    "而 LT 的变换域写作 $F(s)$，$s=\\beta + i\\omega$，是复数，频域成了复数域。\n",
    "\n",
    "**拉普拉斯变换域（s域）还有后面要讲的 z 域，都是复数变换域。使用它们，都是为了理论分析的方便而已。**\n",
    "\n",
    "**复数变换域在现实世界没有什么可对应的东西，不要去尝试把它和某些物理量对应起来！**"
   ]
  },
  {
   "cell_type": "markdown",
   "metadata": {},
   "source": [
    "### 3. 收敛域分析\n",
    "\n",
    "LT 要成立，$f(t)e^{-\\beta t}$ 要满足狄利克雷（dirichlet）条件，因此\n",
    "\n",
    "1. $f(t)$ 要在 $[0, \\infty)$ 上分段连续\n",
    "2. 存在正常数 $M$ 和 $\\alpha$，能使 $|f(t)| \\le Me^{\\alpha t}$ 在 $[0, \\infty)$ 上成立。因为只有这样，才能找到满足绝对可积条件的衰减因子 $e^{-\\beta t}$\n",
    "\n",
    "在傅里叶变换中，$\\omega$ 的取值范围是 $(-\\infty, \\infty)$，因此没有什么收敛域的说法。\n",
    "\n",
    "但是 LT 中，频域成了复数域，主要在于添加了一个参数 $\\beta$，而这个 $\\beta$ 必须使 $f(t)e^{-\\beta t}$ 在 $(0, \\infty)$ 上绝对可积。\n",
    "\n",
    "要满足绝对可积条件，$f(t)e^{-\\beta t}$ 必须在 $(0, \\infty)$ 上逐渐衰减！这样的话 $\\beta$ 就不能太小了，所以 $\\beta$ 应该有个下限 $\\beta_{min}$.\n",
    "\n",
    "$\\omega$ （虚数部分）不影响函数的衰减性，其取值仍然为整个实数域。\n",
    "\n",
    "因此**单边 LT 的收敛域应该是 $[\\beta_{min}, \\infty]$.（对双边 LT，还会有一个上限 $\\beta_{max}$）**\n",
    "\n",
    "#### 3.1. 利用零极点来寻找收敛域的边界 $\\beta_{min}$\n",
    "\n",
    "如果把 $F(s)$ 看作分数形式 $A/B$, 那么令分母 $B$ 为零的点 $s_z$, 就被乘称做极点，这种点是定义域上的\"孔洞\"。\n",
    "\n",
    "收敛域内不能存在极点！因此找到了 $|\\beta|$ 最小的极点，就找到了边界。"
   ]
  },
  {
   "cell_type": "markdown",
   "metadata": {},
   "source": [
    "### 二、Z 变换（ZT）"
   ]
  },
  {
   "cell_type": "markdown",
   "metadata": {},
   "source": [
    "将 Laplace 变换应用到离散域，得到的变换被称作 Z 变换。\n",
    "\n",
    "首先对原函数 $f(t)$ 做采样得到离散函数，采样周期为 $T_s$:\n",
    "\n",
    "$$\\begin{align}\n",
    "x(t) & \\to^{采样} x_s(t) = x(t)\\sum_{n=-\\infty}^{\\infty} \\delta(t-nT_{s}) \\\\\n",
    "& \\to x_s(t) = \\sum_{n=-\\infty}^{\\infty} x(nT_{s})\\delta(t-nT_{s})\n",
    "\\end{align}$$\n",
    "\n",
    "对它做双边 LT（单边的也只是改变一下积分下限而已），有：\n",
    "\n",
    "$$\n",
    "X_{s}(s) = \\sum_{n=-\\infty}^{\\infty} x_(nT_s)e^{-snT_s}（积分变成了求和，t=nT_s,\\ 另外离散序列没有\\ dt）\n",
    "$$\n",
    "\n",
    "令 $T_s = 1$, 复数 $z=e^{sT_s}$（这个就是 **z 域与 s 域的映射关系**）, 有\n",
    "\n",
    "$$\n",
    "X_{s}(z) = \\sum_{n=-\\infty}^{\\infty} x_(n)z^{-n}\n",
    "$$\n",
    "\n",
    "这就是 ZT 的变换公式。令 $T_s = 1$ 相当于忽略掉信号原本的时间单位，统一用离散的 $1\\ 2\\ 3...$ 来作为序列的索引。"
   ]
  },
  {
   "cell_type": "markdown",
   "metadata": {},
   "source": [
    "#### 1. ZT 的逆变换\n",
    "\n",
    "直接从 LT 推导，会有困难，这里从柯西定理推导，该公式为：\n",
    "\n",
    "$$\\oint_{C} z^{k-1}\\ dz =\n",
    "\\begin{cases}\n",
    "2\\pi i & k=0 \\\\\n",
    "0 & k\\ne 0\n",
    "\\end{cases}$$\n",
    "\n",
    "推导过程待续。。得到逆变换公式：\n",
    "\n",
    "$$x[n] = \\frac{1}{2\\pi i} \\oint_{C} X(z)z^{n-1}\\ dz$$"
   ]
  },
  {
   "cell_type": "markdown",
   "metadata": {},
   "source": [
    "#### 2. 收敛域分析\n",
    "\n",
    "与 Laplace 变换不同，ZT 的收敛性受复数 $Z$ 的影响。因此它的收敛域边界不再是直线，而会变成圆。"
   ]
  },
  {
   "cell_type": "markdown",
   "metadata": {},
   "source": [
    "#### 参考\n",
    "\n",
    "-[傅立叶变换、拉普拉斯变换、Z变换的联系？为什么要进行这些变换？](https://www.zhihu.com/question/22085329)"
   ]
  },
  {
   "cell_type": "code",
   "execution_count": null,
   "metadata": {},
   "outputs": [],
   "source": []
  }
 ],
 "metadata": {
  "kernelspec": {
   "display_name": "Python 3",
   "language": "python",
   "name": "python3"
  },
  "language_info": {
   "codemirror_mode": {
    "name": "ipython",
    "version": 3
   },
   "file_extension": ".py",
   "mimetype": "text/x-python",
   "name": "python",
   "nbconvert_exporter": "python",
   "pygments_lexer": "ipython3",
   "version": "3.7.1"
  }
 },
 "nbformat": 4,
 "nbformat_minor": 2
}
