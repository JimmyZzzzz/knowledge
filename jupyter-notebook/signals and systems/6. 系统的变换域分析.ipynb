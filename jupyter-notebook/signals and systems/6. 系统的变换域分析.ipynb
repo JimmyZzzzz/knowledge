{
 "cells": [
  {
   "cell_type": "markdown",
   "metadata": {},
   "source": [
    "### 一、系统（特征）函数\n",
    "\n",
    "#### 1. LTI 系统的特征函数\n",
    "\n",
    "![](LTI-system-function.png)\n",
    "\n",
    "推导发现 LTI 系统的特征函数 $H(s)$ 就是该系统冲激响应的 LT"
   ]
  },
  {
   "cell_type": "markdown",
   "metadata": {},
   "source": [
    "### 2.1 通过系统的微分方程/差分方程求解系统函数"
   ]
  },
  {
   "cell_type": "markdown",
   "metadata": {},
   "source": [
    "![](get-system-func-by-equations.png)"
   ]
  },
  {
   "cell_type": "markdown",
   "metadata": {},
   "source": [
    "#### 2.2. 通过系统的单位冲激响应求取系统函数\n",
    "\n",
    "![](get-system-func-by-impluse-resp.png)"
   ]
  },
  {
   "cell_type": "markdown",
   "metadata": {},
   "source": [
    "### 3. 系统函数与系统框图"
   ]
  },
  {
   "cell_type": "markdown",
   "metadata": {},
   "source": [
    "待续"
   ]
  },
  {
   "cell_type": "markdown",
   "metadata": {},
   "source": [
    "### 4. 系统函数的应用\n",
    "\n",
    "1. 求系统的冲激响应、零状态响应\n",
    "2. 分析系统的稳定性、因果性\n",
    "3. 分析系统的频响特性、相位特性\n",
    "4. 进行滤波器设计"
   ]
  },
  {
   "cell_type": "code",
   "execution_count": null,
   "metadata": {},
   "outputs": [],
   "source": []
  }
 ],
 "metadata": {
  "kernelspec": {
   "display_name": "Python 3",
   "language": "python",
   "name": "python3"
  },
  "language_info": {
   "codemirror_mode": {
    "name": "ipython",
    "version": 3
   },
   "file_extension": ".py",
   "mimetype": "text/x-python",
   "name": "python",
   "nbconvert_exporter": "python",
   "pygments_lexer": "ipython3",
   "version": "3.7.1"
  }
 },
 "nbformat": 4,
 "nbformat_minor": 2
}
