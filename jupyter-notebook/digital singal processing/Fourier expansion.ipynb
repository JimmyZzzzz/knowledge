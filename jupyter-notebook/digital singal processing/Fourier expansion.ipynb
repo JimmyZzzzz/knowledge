{
 "cells": [
  {
   "cell_type": "markdown",
   "metadata": {},
   "source": [
    "# 一、锯齿波的傅里叶展开"
   ]
  },
  {
   "cell_type": "code",
   "execution_count": 2,
   "metadata": {},
   "outputs": [],
   "source": [
    "# inline 模式下，matplotlib 绘制的图会直接输出到 notebook 内\n",
    "# 但是 inline 模式有很多缺陷（不支持 animation，不能交互）\n",
    "%matplotlib inline\n",
    "\n",
    "import matplotlib.pyplot as plt\n",
    "import numpy as np\n",
    "\n",
    "PI2 = 2*np.pi\n",
    "PI3 = 3*np.pi\n",
    "PI4 = 4*np.pi"
   ]
  },
  {
   "cell_type": "markdown",
   "metadata": {},
   "source": [
    "## 1.1 锯齿波函数的定义与图形\n",
    "\\begin{equation}\n",
    "        f(x)=\n",
    "        \\begin{cases}\n",
    "            \\frac{1}{2}(\\pi - x) & 0 < x \\leq 2 \\pi \\\\\n",
    "            f(x + 2 \\pi) & \\text{otherwise}\n",
    "        \\end{cases}\n",
    "    \\end{equation}"
   ]
  },
  {
   "cell_type": "code",
   "execution_count": 3,
   "metadata": {},
   "outputs": [
    {
     "data": {
      "text/plain": [
       "[<matplotlib.lines.Line2D at 0x7f4d6736ccf8>]"
      ]
     },
     "execution_count": 3,
     "metadata": {},
     "output_type": "execute_result"
    },
    {
     "data": {
      "image/png": "[encoded data removed]",
      "text/plain": [
       "<Figure size 600x400 with 1 Axes>"
      ]
     },
     "metadata": {
      "needs_background": "light"
     },
     "output_type": "display_data"
    }
   ],
   "source": [
    "# 锯齿波图形\n",
    "\n",
    "def f(x):  # 函数定义\n",
    "    if x <= 0:\n",
    "        return f(x + PI2)\n",
    "    elif x > 2*np.pi:\n",
    "        return f(x - PI2)\n",
    "    else:\n",
    "        return 1/2 * (np.pi - x)\n",
    "\n",
    "X = np.arange(-PI3, PI3, 0.02)  # x 范围\n",
    "Y = list(map(f, X))             # 计算对应的 y 值\n",
    "\n",
    "fig, axes = plt.subplots(dpi=100)\n",
    "axes.grid()\n",
    "axes.plot(X, Y)    # 绘图"
   ]
  },
  {
   "cell_type": "markdown",
   "metadata": {},
   "source": [
    "## 1.2 傅里叶展开\n",
    "\n",
    "这是一个奇函数，展开为正弦级数为 $\\sum_{n=1}^{\\infty} \\frac{\\sin nx}{n}$，\n",
    "下面开始绘制级数叠加过程图"
   ]
  },
  {
   "cell_type": "code",
   "execution_count": 4,
   "metadata": {},
   "outputs": [],
   "source": [
    "# 这里使用矩阵方法，同时计算 n 项的值。因为这种方式要比单独计算每一项要快。\n",
    "\n",
    "n_max = 300   # 展开到第 n 项\n",
    "N = np.arange(1,n_max)\n",
    "X = np.arange(-PI3, PI3, 0.001)  # x 范围\n",
    "\n",
    "NX = np.outer(N, X)   # 计算 N 和 X 的外积，所得矩阵的每一行，即为对应 n 值的 nx 向量。\n",
    "\n",
    "NY = np.array(np.sin(NX) / np.matrix(N).transpose())   # 计算对应的 Y（矩阵），n 应被对应的 sin(nx) 所除，所以 N 需要转置\n",
    "\n",
    "Serise = np.cumsum(NY, axis=0)  # 计算级数，不是原地计算，因此不会影响到 NY"
   ]
  },
  {
   "cell_type": "markdown",
   "metadata": {},
   "source": [
    "## 1.3 动画"
   ]
  },
  {
   "cell_type": "code",
   "execution_count": 9,
   "metadata": {},
   "outputs": [],
   "source": [
    "# 1. 使用 matplotlib 的 animation。略麻烦，但是交互性高。\n",
    "\n",
    "# backend 切换为 tk，因为 inline 不支持 animation\n",
    "%matplotlib tk\n",
    "\n",
    "from matplotlib.lines import Line2D\n",
    "import matplotlib.animation as animation\n",
    "\n",
    "fig, (ax1, ax2) = plt.subplots(1, 2, dpi=100)\n",
    "ax1.grid()\n",
    "ax2.grid()\n",
    "\n",
    "\n",
    "def animate(Y):\n",
    "    ax1.plot(X,Y)\n",
    "    return ax2.plot(X,Y, \"black\")\n",
    "\n",
    "\n",
    "ani = animation.FuncAnimation(\n",
    "    fig, animate, frames=Serise, interval=80, blit=True)\n",
    "\n",
    "fig.show()"
   ]
  },
  {
   "cell_type": "code",
   "execution_count": 7,
   "metadata": {},
   "outputs": [
    {
     "data": {
      "application/vnd.jupyter.widget-view+json": {
       "model_id": "46c05d448cff404f9563512f8879ac20",
       "version_major": 2,
       "version_minor": 0
      },
      "text/plain": [
       "interactive(children=(IntSlider(value=50, description='i', min=1), Output()), _dom_classes=('widget-interact',…"
      ]
     },
     "metadata": {},
     "output_type": "display_data"
    },
    {
     "data": {
      "text/plain": [
       "<function __main__.update_lines(i)>"
      ]
     },
     "execution_count": 7,
     "metadata": {},
     "output_type": "execute_result"
    }
   ],
   "source": [
    "# 2. 使用 jupyterlab 的 ipywidgets 插件进行交互\n",
    "import ipywidgets as widgets\n",
    "\n",
    "%matplotlib inline\n",
    "\n",
    "def update_lines(i):\n",
    "    # inline 模式下，fig好像是一经显示就不能修改的，因此每次都要创建新的\n",
    "    fig, axes = plt.subplots(dpi=150)\n",
    "    axes.grid()\n",
    "    axes.plot(X, Serise[i], 'red')\n",
    "    \n",
    "widgets.interact(update_lines, i=(1,100,1))"
   ]
  },
  {
   "cell_type": "code",
   "execution_count": null,
   "metadata": {},
   "outputs": [],
   "source": []
  }
 ],
 "metadata": {
  "kernelspec": {
   "display_name": "Python 3",
   "language": "python",
   "name": "python3"
  },
  "language_info": {
   "codemirror_mode": {
    "name": "ipython",
    "version": 3
   },
   "file_extension": ".py",
   "mimetype": "text/x-python",
   "name": "python",
   "nbconvert_exporter": "python",
   "pygments_lexer": "ipython3",
   "version": "3.7.1"
  }
 },
 "nbformat": 4,
 "nbformat_minor": 2
}
